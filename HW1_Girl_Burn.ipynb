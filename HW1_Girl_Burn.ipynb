{
 "cells": [
  {
   "cell_type": "code",
   "execution_count": 1,
   "metadata": {},
   "outputs": [
    {
     "name": "stdout",
     "output_type": "stream",
     "text": [
      "Math_result:  86.73490000000001\n",
      "Loop_result P: 86.745\n"
     ]
    }
   ],
   "source": [
    "import numpy as np\n",
    "\n",
    "#num = np.arange(0,2)\n",
    "#P=[0.49,0.51]\n",
    "#a = np.random.choice(num,1,p=P)\n",
    "#print(num)\n",
    "#print(a)\n",
    "def girl_p(times):\n",
    "    total = times\n",
    "    cnt = 0\n",
    "    for i in range(total):\n",
    "    #    print(\"{} times\".format(i+1))\n",
    "        for j in range(3):\n",
    "            #girl = np.random.choice(num,1,p=P)\n",
    "            girl = np.random.randint(0,100,1)\n",
    "            if (girl < 49):\n",
    "    #            print(\"{} is girl\".format(girl))\n",
    "                cnt+=1\n",
    "                break\n",
    "    #        else:    \n",
    "    #            print(\"{} is boy\".format(girl))\n",
    "    #    print('current cnt',cnt)\n",
    "    return cnt/total\n",
    "print(\"Math_result: \",str((0.49 + 0.49*0.51 + 0.49*0.51**2 )*100))\n",
    "print(\"Loop_result P:\",str(girl_p(100000)*100))"
   ]
  }
 ],
 "metadata": {
  "kernelspec": {
   "display_name": "Python [conda env:my_env]",
   "language": "python",
   "name": "conda-env-my_env-py"
  },
  "language_info": {
   "codemirror_mode": {
    "name": "ipython",
    "version": 3
   },
   "file_extension": ".py",
   "mimetype": "text/x-python",
   "name": "python",
   "nbconvert_exporter": "python",
   "pygments_lexer": "ipython3",
   "version": "3.6.6"
  }
 },
 "nbformat": 4,
 "nbformat_minor": 2
}
